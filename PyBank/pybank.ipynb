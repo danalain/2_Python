{
 "cells": [
  {
   "cell_type": "code",
   "execution_count": 1,
   "metadata": {},
   "outputs": [],
   "source": [
    "# initial Import\n",
    "import pandas as pd\n",
    "import numpy as np\n",
    "from pathlib import Path"
   ]
  },
  {
   "cell_type": "code",
   "execution_count": 2,
   "metadata": {},
   "outputs": [],
   "source": [
    "# Read CSV\n",
    "pybank_csv = Path(\"PyBank_Resources/budget_data.csv\")\n",
    "pybank_data = pd.read_csv(pybank_csv)"
   ]
  },
  {
   "cell_type": "code",
   "execution_count": 3,
   "metadata": {},
   "outputs": [
    {
     "name": "stdout",
     "output_type": "stream",
     "text": [
      "86\n"
     ]
    }
   ],
   "source": [
    "# Total Number of Months in the Dataset \n",
    "Total_Months = pybank_data['Date'].count()\n",
    "print(Total_Months)"
   ]
  },
  {
   "cell_type": "code",
   "execution_count": 4,
   "metadata": {},
   "outputs": [
    {
     "name": "stdout",
     "output_type": "stream",
     "text": [
      "$38,382,578\n"
     ]
    }
   ],
   "source": [
    "# The net total amount of Profit/Losses over the entire period\n",
    "Total_PL = pybank_data['Profit/Losses'].sum()\n",
    "Total_PL = '${0:,.0f}'.format(Total_PL)\n",
    "print(Total_PL)"
   ]
  },
  {
   "cell_type": "code",
   "execution_count": 5,
   "metadata": {},
   "outputs": [
    {
     "data": {
      "text/html": [
       "<div>\n",
       "<style scoped>\n",
       "    .dataframe tbody tr th:only-of-type {\n",
       "        vertical-align: middle;\n",
       "    }\n",
       "\n",
       "    .dataframe tbody tr th {\n",
       "        vertical-align: top;\n",
       "    }\n",
       "\n",
       "    .dataframe thead th {\n",
       "        text-align: right;\n",
       "    }\n",
       "</style>\n",
       "<table border=\"1\" class=\"dataframe\">\n",
       "  <thead>\n",
       "    <tr style=\"text-align: right;\">\n",
       "      <th></th>\n",
       "      <th>Date</th>\n",
       "      <th>Profit/Losses</th>\n",
       "      <th>Shifted_Data</th>\n",
       "    </tr>\n",
       "  </thead>\n",
       "  <tbody>\n",
       "    <tr>\n",
       "      <th>0</th>\n",
       "      <td>Jan-2010</td>\n",
       "      <td>867884</td>\n",
       "      <td>NaN</td>\n",
       "    </tr>\n",
       "    <tr>\n",
       "      <th>1</th>\n",
       "      <td>Feb-2010</td>\n",
       "      <td>984655</td>\n",
       "      <td>867884.0</td>\n",
       "    </tr>\n",
       "    <tr>\n",
       "      <th>2</th>\n",
       "      <td>Mar-2010</td>\n",
       "      <td>322013</td>\n",
       "      <td>984655.0</td>\n",
       "    </tr>\n",
       "    <tr>\n",
       "      <th>3</th>\n",
       "      <td>Apr-2010</td>\n",
       "      <td>-69417</td>\n",
       "      <td>322013.0</td>\n",
       "    </tr>\n",
       "    <tr>\n",
       "      <th>4</th>\n",
       "      <td>May-2010</td>\n",
       "      <td>310503</td>\n",
       "      <td>-69417.0</td>\n",
       "    </tr>\n",
       "  </tbody>\n",
       "</table>\n",
       "</div>"
      ],
      "text/plain": [
       "       Date  Profit/Losses  Shifted_Data\n",
       "0  Jan-2010         867884           NaN\n",
       "1  Feb-2010         984655      867884.0\n",
       "2  Mar-2010         322013      984655.0\n",
       "3  Apr-2010         -69417      322013.0\n",
       "4  May-2010         310503      -69417.0"
      ]
     },
     "execution_count": 5,
     "metadata": {},
     "output_type": "execute_result"
    }
   ],
   "source": [
    "# The average of the changes in Profit and Losses over the entire period\n",
    "# Create a shifted column to calculate the change\n",
    "pybank_data['Shifted_Data'] = pybank_data['Profit/Losses'].shift(1)\n",
    "pybank_data.head()"
   ]
  },
  {
   "cell_type": "code",
   "execution_count": 6,
   "metadata": {},
   "outputs": [
    {
     "data": {
      "text/html": [
       "<div>\n",
       "<style scoped>\n",
       "    .dataframe tbody tr th:only-of-type {\n",
       "        vertical-align: middle;\n",
       "    }\n",
       "\n",
       "    .dataframe tbody tr th {\n",
       "        vertical-align: top;\n",
       "    }\n",
       "\n",
       "    .dataframe thead th {\n",
       "        text-align: right;\n",
       "    }\n",
       "</style>\n",
       "<table border=\"1\" class=\"dataframe\">\n",
       "  <thead>\n",
       "    <tr style=\"text-align: right;\">\n",
       "      <th></th>\n",
       "      <th>Date</th>\n",
       "      <th>Profit/Losses</th>\n",
       "      <th>Shifted_Data</th>\n",
       "      <th>Monthly_Change</th>\n",
       "    </tr>\n",
       "  </thead>\n",
       "  <tbody>\n",
       "    <tr>\n",
       "      <th>0</th>\n",
       "      <td>Jan-2010</td>\n",
       "      <td>867884</td>\n",
       "      <td>NaN</td>\n",
       "      <td>NaN</td>\n",
       "    </tr>\n",
       "    <tr>\n",
       "      <th>1</th>\n",
       "      <td>Feb-2010</td>\n",
       "      <td>984655</td>\n",
       "      <td>867884.0</td>\n",
       "      <td>116771.0</td>\n",
       "    </tr>\n",
       "    <tr>\n",
       "      <th>2</th>\n",
       "      <td>Mar-2010</td>\n",
       "      <td>322013</td>\n",
       "      <td>984655.0</td>\n",
       "      <td>-662642.0</td>\n",
       "    </tr>\n",
       "    <tr>\n",
       "      <th>3</th>\n",
       "      <td>Apr-2010</td>\n",
       "      <td>-69417</td>\n",
       "      <td>322013.0</td>\n",
       "      <td>-391430.0</td>\n",
       "    </tr>\n",
       "    <tr>\n",
       "      <th>4</th>\n",
       "      <td>May-2010</td>\n",
       "      <td>310503</td>\n",
       "      <td>-69417.0</td>\n",
       "      <td>379920.0</td>\n",
       "    </tr>\n",
       "  </tbody>\n",
       "</table>\n",
       "</div>"
      ],
      "text/plain": [
       "       Date  Profit/Losses  Shifted_Data  Monthly_Change\n",
       "0  Jan-2010         867884           NaN             NaN\n",
       "1  Feb-2010         984655      867884.0        116771.0\n",
       "2  Mar-2010         322013      984655.0       -662642.0\n",
       "3  Apr-2010         -69417      322013.0       -391430.0\n",
       "4  May-2010         310503      -69417.0        379920.0"
      ]
     },
     "execution_count": 6,
     "metadata": {},
     "output_type": "execute_result"
    }
   ],
   "source": [
    "#Create and Calculate Dollar amount changes column\n",
    "pybank_data[\"Monthly_Change\"] = pybank_data[\"Profit/Losses\"] - pybank_data['Shifted_Data']\n",
    "pybank_data.head()"
   ]
  },
  {
   "cell_type": "code",
   "execution_count": 7,
   "metadata": {},
   "outputs": [
    {
     "name": "stdout",
     "output_type": "stream",
     "text": [
      "$-2,315\n"
     ]
    }
   ],
   "source": [
    "#Calculate the average change\n",
    "Average_monthly_change = pybank_data[\"Monthly_Change\"].mean()\n",
    "Average_monthly_change = ('${0:,.0f}').format(Average_monthly_change)\n",
    "print(Average_monthly_change)"
   ]
  },
  {
   "cell_type": "code",
   "execution_count": 8,
   "metadata": {},
   "outputs": [
    {
     "name": "stdout",
     "output_type": "stream",
     "text": [
      "$1,926,159\n",
      "-$2,196,167\n"
     ]
    }
   ],
   "source": [
    "Greatest_increase = pybank_data[\"Monthly_Change\"].max()\n",
    "Greatest_increase = ('${0:,.0f}').format(Greatest_increase)\n",
    "Greatest_decrease = abs(pybank_data[\"Monthly_Change\"].min())\n",
    "Greatest_decrease = ('-${0:,.0f}').format(Greatest_decrease)\n",
    "print(Greatest_increase)\n",
    "print(Greatest_decrease)"
   ]
  },
  {
   "cell_type": "code",
   "execution_count": 21,
   "metadata": {},
   "outputs": [
    {
     "name": "stdout",
     "output_type": "stream",
     "text": [
      "Month of Greatest Increase in Profit: Feb-2012\n",
      "Month of Greatest Decrease in Losses: Sep-2013\n"
     ]
    }
   ],
   "source": [
    "# Finding the Date where the monthly change is maximum and minimum \n",
    "Greatest_increase_month = pybank_data[\"Date\"].where(pybank_data[\"Monthly_Change\"]==pybank_data[\"Monthly_Change\"].max()).dropna().values[0]\n",
    "Greatest_decrease_month = pybank_data[\"Date\"].where(pybank_data[\"Monthly_Change\"]==pybank_data[\"Monthly_Change\"].min()).dropna().values[0]\n",
    "print(f'Month of Greatest Increase in Profit: {Greatest_increase_month}')\n",
    "print(f'Month of Greatest Decrease in Losses: {Greatest_decrease_month}')"
   ]
  },
  {
   "cell_type": "code",
   "execution_count": 17,
   "metadata": {},
   "outputs": [
    {
     "name": "stdout",
     "output_type": "stream",
     "text": [
      "Financial Analysis\n",
      "------------------\n",
      "Total Months: 86\n",
      "Total: $38,382,578\n",
      "Average  Change: $-2,315\n",
      "Greatest Increase in Profits: Feb-2012 $1,926,159\n",
      "Greatest Decrease in Profits: Sep-2013 -$2,196,167\n"
     ]
    }
   ],
   "source": [
    "#Type Out the Result\"\n",
    "print('Financial Analysis\\n'\n",
    "      '------------------\\n'\n",
    "      f'Total Months: {Total_Months}\\n'\n",
    "      f'Total: {Total_PL}\\n'\n",
    "      f'Average  Change: {Average_monthly_change}\\n'\n",
    "      f'Greatest Increase in Profits: {Greatest_increase_month} {Greatest_increase}\\n'\n",
    "      f'Greatest Decrease in Profits: {Greatest_decrease_month} {Greatest_decrease}')"
   ]
  }
 ],
 "metadata": {
  "kernelspec": {
   "display_name": "Python 3",
   "language": "python",
   "name": "python3"
  },
  "language_info": {
   "codemirror_mode": {
    "name": "ipython",
    "version": 3
   },
   "file_extension": ".py",
   "mimetype": "text/x-python",
   "name": "python",
   "nbconvert_exporter": "python",
   "pygments_lexer": "ipython3",
   "version": "3.8.3"
  }
 },
 "nbformat": 4,
 "nbformat_minor": 4
}
