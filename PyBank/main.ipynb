{
 "cells": [
  {
   "cell_type": "code",
   "execution_count": 1,
   "metadata": {},
   "outputs": [],
   "source": [
    "from pathlib import Path\n",
    "import csv"
   ]
  },
  {
   "cell_type": "code",
   "execution_count": 2,
   "metadata": {},
   "outputs": [],
   "source": [
    "csvpath = Path('../Resources/budget_data.csv')"
   ]
  },
  {
   "cell_type": "code",
   "execution_count": 3,
   "metadata": {},
   "outputs": [],
   "source": [
    "mcount = 0\n",
    "total = 0\n",
    "PreValue = 0\n",
    "Diff = 0\n",
    "DiffMax = 0\n",
    "DiffMin = 0"
   ]
  },
  {
   "cell_type": "code",
   "execution_count": 8,
   "metadata": {},
   "outputs": [
    {
     "name": "stdout",
     "output_type": "stream",
     "text": [
      "Financial Analysis\n",
      "\n",
      "--------------------\n"
     ]
    }
   ],
   "source": [
    "with open(csvpath, 'r') as csvfile:\n",
    "    csvreader = csv.reader(csvfile, delimiter = ',')\n",
    "    csvheader = next(csvreader)\n",
    "    print(f'Financial Analysis\\n')\n",
    "    print(f'--------------------')\n",
    "    for x in csvreader:\n",
    "          month = x[0]\n",
    "          Amount = x[1]\n",
    "          xAmount = int(Amount)\n",
    "          Diff = xAmount - PreValue\n",
    "          \n",
    "          if DiffMax < Diff:\n",
    "              DiffMax = Diff\n",
    "              DiffMaxDate = month\n",
    "          if DiffMin > Diff:\n",
    "              DiffMin = Diff\n",
    "              DiffMinDate = month\n",
    "          \n",
    "          PreValue = xAmount\n",
    "          mcount = mcount + 1\n",
    "          total += int(Amount)"
   ]
  },
  {
   "cell_type": "code",
   "execution_count": 12,
   "metadata": {},
   "outputs": [
    {
     "name": "stdout",
     "output_type": "stream",
     "text": [
      "Financial Analysis\n",
      "\n",
      "--------------------\n",
      "Total Months : 86\n",
      "Total: $38382578\n",
      "Greatest Increase in Profits: Feb-2012 : $1926159\n",
      "Greatest Decrease in Profits: Sep-2013 : $-2196167\n"
     ]
    }
   ],
   "source": [
    "print(f'Financial Analysis\\n')\n",
    "print(f'--------------------')\n",
    "print(f'Total Months : {mcount}')\n",
    "print(f'Total: ${total}')\n",
    "print(f'Greatest Increase in Profits: {DiffMaxDate} : ${DiffMax}')\n",
    "print(f'Greatest Decrease in Profits: {DiffMinDate} : ${DiffMin}')"
   ]
  },
  {
   "cell_type": "code",
   "execution_count": 10,
   "metadata": {},
   "outputs": [],
   "source": [
    "output_path = Path(\"output.txt\")"
   ]
  },
  {
   "cell_type": "code",
   "execution_count": 15,
   "metadata": {},
   "outputs": [],
   "source": [
    "with open(output_path, 'w') as file:\n",
    "    file.write (\"Financial Analysis\\n\")\n",
    "    file.write (\"------------------\\n\")\n",
    "    file.write (\"Total Months : 86\\n\")\n",
    "    file.write (\"Total: $38382578\\n\")\n",
    "    file.write (\"Greatest Increase in Profits: Feb-2012 : $1926159\\n\")\n",
    "    file.write (\"Greatest Decrease in Profits: Sep-2013 : $-2196167\\n\")"
   ]
  },
  {
   "cell_type": "code",
   "execution_count": null,
   "metadata": {},
   "outputs": [],
   "source": []
  }
 ],
 "metadata": {
  "kernelspec": {
   "display_name": "Python 3",
   "language": "python",
   "name": "python3"
  },
  "language_info": {
   "codemirror_mode": {
    "name": "ipython",
    "version": 3
   },
   "file_extension": ".py",
   "mimetype": "text/x-python",
   "name": "python",
   "nbconvert_exporter": "python",
   "pygments_lexer": "ipython3",
   "version": "3.8.3"
  }
 },
 "nbformat": 4,
 "nbformat_minor": 4
}
